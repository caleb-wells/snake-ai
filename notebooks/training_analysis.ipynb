{
 "cells": [
  {
   "cell_type": "markdown",
   "metadata": {},
   "source": [
    "# Snake AI Training Analysis\n",
    "\n",
    "This notebook analyzes training metrics and model performance."
   ],
   "id": "c62eb8bfa3b99508"
  },
  {
   "cell_type": "code",
   "execution_count": null,
   "metadata": {},
   "source": [
    "import json\n",
    "# import numpy as np\n",
    "import pandas as pd\n",
    "import matplotlib.pyplot as plt\n",
    "import seaborn as sns\n",
    "\n",
    "# Set style for plots\n",
    "plt.style.use('dark_background')\n",
    "sns.set_theme(style=\"darkgrid\")"
   ],
   "outputs": [],
   "id": "683ee16e1b6dd89c"
  },
  {
   "cell_type": "code",
   "execution_count": null,
   "metadata": {},
   "source": [
    "# Load training metrics\n",
    "with open('../logs/training_metrics.json', 'r') as f:\n",
    "    metrics = json.load(f)\n",
    "\n",
    "# Convert to DataFrame\n",
    "df = pd.DataFrame({\n",
    "    'Episode': range(len(metrics['episode_scores'])),\n",
    "    'Score': metrics['episode_scores'],\n",
    "    'Length': metrics['episode_lengths']\n",
    "})"
   ],
   "outputs": [],
   "id": "b2820e513fa42cdc"
  },
  {
   "cell_type": "markdown",
   "metadata": {},
   "source": [
    "## Training Progress"
   ],
   "id": "89e60b97afcaa18"
  },
  {
   "cell_type": "code",
   "execution_count": null,
   "metadata": {},
   "source": [
    "# Calculate moving averages\n",
    "window_size = 100\n",
    "df['Score_MA'] = df['Score'].rolling(window=window_size).mean()\n",
    "\n",
    "# Plot scores\n",
    "plt.figure(figsize=(15, 6))\n",
    "plt.plot(df['Episode'], df['Score'], alpha=0.3, label='Raw Score')\n",
    "plt.plot(df['Episode'], df['Score_MA'], label=f'{window_size}-Episode Moving Average')\n",
    "plt.xlabel('Episode')\n",
    "plt.ylabel('Score')\n",
    "plt.title('Training Progress')\n",
    "plt.legend()\n",
    "plt.show()"
   ],
   "outputs": [],
   "id": "f0fa153ddb00c79b"
  },
  {
   "cell_type": "markdown",
   "metadata": {},
   "source": [
    "## Performance Distribution"
   ],
   "id": "c4ba40e669fe12c0"
  },
  {
   "cell_type": "code",
   "execution_count": null,
   "metadata": {},
   "source": [
    "# Plot score distribution\n",
    "plt.figure(figsize=(12, 5))\n",
    "sns.histplot(data=df, x='Score', bins=30)\n",
    "plt.axvline(df['Score'].mean(), color='r', linestyle='--', label=f'Mean: {df[\"Score\"].mean():.2f}')\n",
    "plt.title('Score Distribution')\n",
    "plt.legend()\n",
    "plt.show()"
   ],
   "outputs": [],
   "id": "7e484e0098203bf5"
  },
  {
   "cell_type": "markdown",
   "metadata": {},
   "source": [
    "## Episode Length Analysis"
   ],
   "id": "6158041aefe70d8c"
  },
  {
   "cell_type": "code",
   "execution_count": null,
   "metadata": {},
   "source": [
    "# Plot episode lengths\n",
    "plt.figure(figsize=(15, 6))\n",
    "plt.scatter(df['Score'], df['Length'], alpha=0.5)\n",
    "plt.xlabel('Score')\n",
    "plt.ylabel('Episode Length')\n",
    "plt.title('Score vs Episode Length')\n",
    "plt.show()"
   ],
   "outputs": [],
   "id": "f813c273f9d0f1f7"
  },
  {
   "cell_type": "markdown",
   "metadata": {},
   "source": [
    "## Performance Metrics"
   ],
   "id": "5d2b131b3b3b89c3"
  },
  {
   "cell_type": "code",
   "execution_count": null,
   "metadata": {},
   "source": [
    "# Calculate key metrics\n",
    "last_100_avg = df['Score'].tail(100).mean()\n",
    "best_score = df['Score'].max()\n",
    "mean_score = df['Score'].mean()\n",
    "\n",
    "print(f\"Best Score: {best_score}\")\n",
    "print(f\"Average Score: {mean_score:.2f}\")\n",
    "print(f\"Last 100 Episodes Average: {last_100_avg:.2f}\")"
   ],
   "outputs": [],
   "id": "d7f9e6e8bd07e6f5"
  },
  {
   "metadata": {},
   "cell_type": "markdown",
   "source": "",
   "id": "277ed2b9f793a39e"
  }
 ],
 "metadata": {
  "kernelspec": {
   "display_name": "Python 3",
   "language": "python",
   "name": "python3"
  },
  "language_info": {
   "codemirror_mode": {
    "name": "ipython",
    "version": 3
   },
   "file_extension": ".py",
   "mimetype": "text/x-python",
   "name": "python",
   "nbconvert_exporter": "python",
   "pygments_lexer": "ipython3",
   "version": "3.8.0"
  }
 },
 "nbformat": 4,
 "nbformat_minor": 4
}
